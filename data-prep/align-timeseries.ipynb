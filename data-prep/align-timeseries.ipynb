{
 "cells": [
  {
   "cell_type": "code",
   "execution_count": null,
   "metadata": {},
   "outputs": [],
   "source": [
    "import os\n",
    "import numpy as np\n",
    "import pandas as pd\n",
    "import matplotlib.pyplot as plt\n",
    "from tqdm import tqdm"
   ]
  },
  {
   "cell_type": "code",
   "execution_count": null,
   "metadata": {},
   "outputs": [],
   "source": [
    "def dpath(fname):\n",
    "    return os.path.join('/mnt/data1/mimic/iii', fname)\n",
    "\n",
    "def cleaned(fname):\n",
    "    return os.path.join('/mnt/data1/mimic/iii/cleaned', fname)\n",
    "\n",
    "def aligned(fname):\n",
    "    return os.path.join('/mnt/data1/mimic/iii/aligned', fname)\n",
    "\n",
    "def filter_encs(df, encs):\n",
    "    return df[df['HADM_ID'].isin(set(encs))].reset_index(drop=True)\n",
    "\n",
    "def filter_pts(df, pts):\n",
    "    return df[df['SUBJECT_ID'].isin(set(pts))].reset_index(drop=True)"
   ]
  },
  {
   "cell_type": "code",
   "execution_count": null,
   "metadata": {},
   "outputs": [],
   "source": [
    "notes = pd.read_csv(cleaned('Progress_Notes.csv'), parse_dates=['CHARTTIME'])\n",
    "note_encs = set(notes['HADM_ID'])\n",
    "note_pts = set(notes['SUBJECT_ID'])\n",
    "\n",
    "feat_names  = [\n",
    "    ('HR', ['HR']),\n",
    "    ('BP', ['SBP', 'DBP']),\n",
    "    ('RR', ['RR']),\n",
    "    ('SpO2', ['SpO2']),\n",
    "    ('GCS', ['GCS']),\n",
    "]\n",
    "feats = {k: filter_encs(pd.read_csv(cleaned(f'{k}.csv'), parse_dates=['CHARTTIME']), note_encs) for k, _ in feat_names}\n",
    "\n",
    "adt = filter_encs(pd.read_csv(dpath('ADMISSIONS.csv.gz'), parse_dates=['ADMITTIME', 'DISCHTIME', 'DEATHTIME']), note_encs)\n",
    "patients = filter_pts(pd.read_csv(dpath('PATIENTS.csv.gz'), parse_dates=['DOB', 'DOD', 'DOD_HOSP', 'DOD_SSN']), note_pts)"
   ]
  },
  {
   "cell_type": "code",
   "execution_count": null,
   "metadata": {},
   "outputs": [],
   "source": [
    "{k: len(df) for k, df in feats.items()}"
   ]
  },
  {
   "cell_type": "code",
   "execution_count": null,
   "metadata": {},
   "outputs": [],
   "source": [
    "assert len(note_encs) == len(set(adt['HADM_ID']))\n",
    "assert len(note_pts) == len(set(patients['SUBJECT_ID']))\n",
    "print(f\"#Pts: {len(note_pts)} #Encs: {len(note_encs)}\")"
   ]
  },
  {
   "cell_type": "code",
   "execution_count": null,
   "metadata": {},
   "outputs": [],
   "source": [
    "print(f\"#Total_Notes: {len(notes)}\")\n",
    "print(f\"#Unique_Notes: {len(notes.drop_duplicates(subset=['HADM_ID', 'CHARTTIME']))}\")"
   ]
  },
  {
   "cell_type": "code",
   "execution_count": null,
   "metadata": {},
   "outputs": [],
   "source": [
    "plt.hist(notes.drop_duplicates(subset=['HADM_ID', 'CHARTTIME'])['CHARTTIME'].dt.round('H').dt.hour, bins=np.arange(25))\n",
    "plt.title('Progress Note Time of Day')\n",
    "plt.ylabel('Count')\n",
    "plt.xlabel('Hour')"
   ]
  },
  {
   "cell_type": "markdown",
   "metadata": {},
   "source": [
    "# Align Timeseries"
   ]
  },
  {
   "cell_type": "code",
   "execution_count": null,
   "metadata": {},
   "outputs": [],
   "source": [
    "for df in feats.values():\n",
    "    df.sort_values(['SUBJECT_ID', 'HADM_ID', 'CHARTTIME'], ascending=True, inplace=True)\n",
    "    df['next15'] = df['CHARTTIME'].dt.ceil(\"15min\")\n",
    "    df.drop_duplicates(subset=['HADM_ID', 'next15'], keep=\"last\", inplace=True)\n",
    "\n",
    "notes['next15'] = notes['CHARTTIME'].dt.ceil(\"15min\")"
   ]
  },
  {
   "cell_type": "code",
   "execution_count": null,
   "metadata": {},
   "outputs": [],
   "source": [
    "rel_window = pd.Timedelta(\"2D\")\n",
    "window_idx = pd.timedelta_range(start=\"0D\", end=rel_window, freq=\"15min\")[::-1]\n",
    "window_idx.name = \"Time to note\"\n",
    "data = []\n",
    "for enc in tqdm(note_encs):\n",
    "    pt_notes = notes[notes['HADM_ID'] == enc]\n",
    "    pt_feats = {k: v[v['HADM_ID'] == enc] for k, v in feats.items()}\n",
    "    subj = pt_notes['SUBJECT_ID'].iloc[0]\n",
    "\n",
    "    note_times = pt_notes['next15'].drop_duplicates().sort_values().to_list()\n",
    "    for i, (start_time, end_time) in enumerate(zip([pd.Timestamp('1500')]+note_times[:-1], note_times)):\n",
    "        note_feats = pd.DataFrame(index=window_idx, columns=[col if len(cols) > 1 else k for k, cols in feat_names for col in cols])\n",
    "        for k, cols in feat_names:\n",
    "            v = pt_feats[k]\n",
    "            before_note = v['next15'].between(start_time, end_time, inclusive='right')\n",
    "            note_feat = v[before_note]\n",
    "            time_to_note = end_time - note_feat['next15']\n",
    "            in_window = time_to_note <= rel_window\n",
    "            time_to_note = time_to_note[in_window]\n",
    "            for col in cols:\n",
    "                vals = note_feat.loc[in_window, col]\n",
    "                vals.index = time_to_note\n",
    "                note_feats.loc[time_to_note, col if len(cols) > 1 else k] = vals\n",
    "        note_dupes = pt_notes.loc[pt_notes['next15'] == end_time, 'TEXT']\n",
    "        note_dupes.to_csv(aligned(f'notes/{subj}-{enc}-{i}.csv'), index=False)\n",
    "        note_feats.to_csv(aligned(f'feats/{subj}-{enc}-{i}.csv'))\n",
    "        data.append((subj, enc, i, end_time))\n",
    "all_records = pd.DataFrame(data, columns=['SUBJECT_ID', 'HADM_ID', 'NOTE_NUM', 'ALIGNED_TIME'])"
   ]
  },
  {
   "cell_type": "code",
   "execution_count": null,
   "metadata": {},
   "outputs": [],
   "source": [
    "all_records['DOD'] = patients.set_index('SUBJECT_ID').loc[all_records['SUBJECT_ID'], 'DOD'].reset_index(drop=True)\n",
    "all_records['TIME_TO_DEATH'] = all_records['DOD'] - all_records['ALIGNED_TIME'].dt.floor(\"1D\")\n",
    "all_records['60D_MORTALITY'] = (all_records['TIME_TO_DEATH'] < pd.Timedelta('60D')).astype(int)"
   ]
  },
  {
   "cell_type": "code",
   "execution_count": null,
   "metadata": {},
   "outputs": [],
   "source": [
    "all_records['60D_MORTALITY'].value_counts()"
   ]
  },
  {
   "cell_type": "code",
   "execution_count": null,
   "metadata": {},
   "outputs": [],
   "source": [
    "all_records['60D_MORTALITY'].value_counts() / len(all_records)"
   ]
  },
  {
   "cell_type": "code",
   "execution_count": null,
   "metadata": {},
   "outputs": [],
   "source": [
    "n_splits = 5\n",
    "temp = all_records['SUBJECT_ID'].drop_duplicates().sample(frac=1, random_state=0).reset_index(drop=True)\n",
    "pt_split = pd.DataFrame({\n",
    "    'SUBJECT_ID': temp,\n",
    "    'SPLIT': [i % n_splits for i in range(len(temp))],\n",
    "})\n",
    "all_records['SPLIT'] = pt_split.set_index('SUBJECT_ID').loc[all_records['SUBJECT_ID']].reset_index(drop=True)"
   ]
  },
  {
   "cell_type": "code",
   "execution_count": null,
   "metadata": {},
   "outputs": [],
   "source": [
    "all_records['SPLIT'].value_counts().sort_index()"
   ]
  },
  {
   "cell_type": "code",
   "execution_count": null,
   "metadata": {},
   "outputs": [],
   "source": [
    "all_records.groupby('SPLIT')['60D_MORTALITY'].value_counts()"
   ]
  },
  {
   "cell_type": "code",
   "execution_count": null,
   "metadata": {},
   "outputs": [],
   "source": [
    "all_records.groupby('SPLIT')['60D_MORTALITY'].value_counts() / all_records['SPLIT'].value_counts()"
   ]
  },
  {
   "cell_type": "code",
   "execution_count": null,
   "metadata": {},
   "outputs": [],
   "source": [
    "all_records.to_csv(aligned('all_records.csv'), index=False)"
   ]
  },
  {
   "cell_type": "markdown",
   "metadata": {},
   "source": [
    "# Death Label\n",
    "\n",
    "An important note, the last ICU stay (and likely last time they had paired EHR/note data) may be well before the in-hospital death time or discharge time (and therefore out-hospital death time). See transfer table for more details. Should probably investigate time from each data sample to the death time for this label. For down the line."
   ]
  },
  {
   "cell_type": "code",
   "execution_count": null,
   "metadata": {},
   "outputs": [],
   "source": [
    "assert (adt[adt['DEATHTIME'].notna()].index == adt[adt['HOSPITAL_EXPIRE_FLAG'].astype(bool)].index).all()\n",
    "assert (adt.groupby('SUBJECT_ID')['HOSPITAL_EXPIRE_FLAG'].sum() < 2).all()\n",
    "num_in_hosp_dec = adt[\"HOSPITAL_EXPIRE_FLAG\"].sum()\n",
    "(adt['DEATHTIME'] - adt['DISCHTIME']).describe()"
   ]
  },
  {
   "cell_type": "code",
   "execution_count": null,
   "metadata": {},
   "outputs": [],
   "source": [
    "adt_dec_ids = set(adt.loc[adt['HOSPITAL_EXPIRE_FLAG'] == 1, 'SUBJECT_ID'])\n",
    "pts_dec_ids = set(patients.loc[patients['DOD'].notna(), 'SUBJECT_ID'])\n",
    "assert len(adt_dec_ids - pts_dec_ids) == 0\n",
    "# just use patients table"
   ]
  },
  {
   "cell_type": "code",
   "execution_count": null,
   "metadata": {},
   "outputs": [],
   "source": [
    "in_hosp_dec_ids = adt.loc[adt['HOSPITAL_EXPIRE_FLAG'] == 1, 'SUBJECT_ID']\n",
    "out_hosp_dec = patients[~(patients['SUBJECT_ID'].isin(in_hosp_dec_ids)) & (patients['DOD'].notna())]\n",
    "last_enc = adt.sort_values(by=['SUBJECT_ID', 'HADM_ID', 'DISCHTIME'], ascending=True).drop_duplicates(subset='SUBJECT_ID', keep='last')\n",
    "out_hosp_dec_last_enc = out_hosp_dec.merge(last_enc, on='SUBJECT_ID')\n",
    "assert len(out_hosp_dec_last_enc) == len(out_hosp_dec)\n",
    "days_after_disch = (out_hosp_dec_last_enc['DOD'] - out_hosp_dec_last_enc['DISCHTIME']) / pd.Timedelta('1D')\n",
    "days_after_disch.describe()"
   ]
  },
  {
   "cell_type": "code",
   "execution_count": null,
   "metadata": {},
   "outputs": [],
   "source": [
    "bins = np.arange(367)\n",
    "bins[0] = -10_000\n",
    "bins[-1] = 10_000\n",
    "plt.hist(days_after_disch, bins=bins)\n",
    "plt.xlim([0, 120])\n",
    "plt.ylim([0,30])\n",
    "plt.title('Outside hospital deaths')\n",
    "plt.ylabel('Count')\n",
    "plt.xlabel('Days after discharge')"
   ]
  },
  {
   "cell_type": "code",
   "execution_count": null,
   "metadata": {},
   "outputs": [],
   "source": [
    "num_out_hosp_dec_60d = (days_after_disch < 60).sum()"
   ]
  },
  {
   "cell_type": "code",
   "execution_count": null,
   "metadata": {},
   "outputs": [],
   "source": [
    "print(f'#In_Hosp_Deceased: {num_in_hosp_dec}')\n",
    "print(f'#Out_Hosp_Deceased_60_Days: {num_out_hosp_dec_60d}')"
   ]
  },
  {
   "cell_type": "code",
   "execution_count": null,
   "metadata": {},
   "outputs": [],
   "source": []
  }
 ],
 "metadata": {
  "kernelspec": {
   "display_name": "medpng",
   "language": "python",
   "name": "python3"
  },
  "language_info": {
   "codemirror_mode": {
    "name": "ipython",
    "version": 3
   },
   "file_extension": ".py",
   "mimetype": "text/x-python",
   "name": "python",
   "nbconvert_exporter": "python",
   "pygments_lexer": "ipython3",
   "version": "3.11.4"
  }
 },
 "nbformat": 4,
 "nbformat_minor": 2
}
