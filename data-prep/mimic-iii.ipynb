{
 "cells": [
  {
   "cell_type": "code",
   "execution_count": null,
   "metadata": {},
   "outputs": [],
   "source": [
    "import os\n",
    "import sys\n",
    "\n",
    "import numpy as np\n",
    "import pandas as pd\n",
    "from tqdm import tqdm\n",
    "import matplotlib.pyplot as plt\n",
    "import seaborn as sns\n",
    "%matplotlib inline\n",
    "\n",
    "prefix = '/mnt/data1/mimic/iii'\n",
    "def dpath(fname):\n",
    "    return os.path.join(prefix, fname)\n",
    "\n",
    "def cleaned(fname):\n",
    "    return os.path.join(prefix, 'cleaned', fname)"
   ]
  },
  {
   "cell_type": "code",
   "execution_count": null,
   "metadata": {},
   "outputs": [],
   "source": [
    "uidcols = ['SUBJECT_ID', 'HADM_ID', 'CHARTTIME']"
   ]
  },
  {
   "cell_type": "markdown",
   "metadata": {},
   "source": [
    "# Extract Progress Notes"
   ]
  },
  {
   "cell_type": "code",
   "execution_count": null,
   "metadata": {},
   "outputs": [],
   "source": [
    "usecols = ['SUBJECT_ID', 'HADM_ID', 'CHARTDATE', 'CHARTTIME', 'CATEGORY', 'DESCRIPTION', 'ISERROR', 'TEXT']\n",
    "dtypes =  [int,          float,     object,      object,      str,        str,           float,     str]\n",
    "\n",
    "notes = pd.read_csv(\n",
    "    dpath('NOTEEVENTS.csv.gz'),\n",
    "    usecols=usecols,\n",
    "    dtype=dict(zip(usecols, dtypes)),\n",
    "    parse_dates=['CHARTDATE', 'CHARTTIME'],\n",
    ")\n",
    "notes = notes.dropna(subset='HADM_ID')\n",
    "notes['HADM_ID'] = notes['HADM_ID'].astype(int)"
   ]
  },
  {
   "cell_type": "code",
   "execution_count": null,
   "metadata": {},
   "outputs": [],
   "source": [
    "progress_notes = notes[\n",
    "    notes['CATEGORY'].isin({'Physician '}) &\n",
    "    notes['DESCRIPTION'].str.contains('Physician|Attending|Fellow|Resident|PGY', case=False, regex=True) &\n",
    "    notes['DESCRIPTION'].str.contains('prog', case=False) &\n",
    "    notes['ISERROR'].isna()\n",
    "]\n",
    "progress_notes = progress_notes.sort_values(uidcols)"
   ]
  },
  {
   "cell_type": "code",
   "execution_count": null,
   "metadata": {},
   "outputs": [],
   "source": [
    "print('Number of progress notes:', len(progress_notes))\n",
    "print('Number of unique progress note chart times:', len(progress_notes.drop_duplicates(uidcols)))\n",
    "print('Unique encounters with progress notes:', len(progress_notes['HADM_ID'].drop_duplicates()))\n",
    "assert not progress_notes['CHARTTIME'].isna().any()"
   ]
  },
  {
   "cell_type": "code",
   "execution_count": null,
   "metadata": {},
   "outputs": [],
   "source": [
    "progress_notes[uidcols + ['TEXT']].to_csv(cleaned('Progress_Notes.csv'), index=False)"
   ]
  },
  {
   "cell_type": "markdown",
   "metadata": {},
   "source": [
    "# Load CHARTEVENTS"
   ]
  },
  {
   "cell_type": "code",
   "execution_count": null,
   "metadata": {},
   "outputs": [],
   "source": [
    "_items = pd.read_csv(dpath('D_ITEMS.csv.gz'))\n",
    "items = _items.dropna(axis=0, subset='LABEL')\n",
    "\n",
    "parquet_file = dpath('CHARTEVENTS.parquet')\n",
    "if not os.path.exists(parquet_file):\n",
    "    chunksize = 1_000_000\n",
    "    usecols = ['SUBJECT_ID', 'HADM_ID', 'ITEMID', 'CHARTTIME', 'VALUE', 'VALUENUM', 'VALUEUOM']\n",
    "    dtypes =  [int,          int,       int,      object,      str,     float,      str]\n",
    "\n",
    "    chunks = []\n",
    "    it = pd.read_csv(\n",
    "        dpath('CHARTEVENTS.csv.gz'),\n",
    "        chunksize=chunksize,\n",
    "        usecols=usecols,\n",
    "        dtype=dict(zip(usecols, dtypes)),\n",
    "        parse_dates=['CHARTTIME'],\n",
    "    )\n",
    "\n",
    "    for chunk in tqdm(it):\n",
    "        chunks.append(chunk)\n",
    "\n",
    "    chart = pd.concat(chunks)\n",
    "\n",
    "    _df = chart.merge(items[['ITEMID', 'LABEL', 'DBSOURCE']], how='left', on='ITEMID')\n",
    "    _df = _df.sort_values(uidcols)\n",
    "    _df.to_parquet(parquet_file)\n",
    "\n",
    "df = pd.read_parquet(parquet_file)"
   ]
  },
  {
   "cell_type": "code",
   "execution_count": null,
   "metadata": {},
   "outputs": [],
   "source": [
    "meas_count = df['ITEMID'].value_counts().reset_index().merge(items[['ITEMID', 'LABEL', 'DBSOURCE']], how='left', on='ITEMID')[['ITEMID', 'LABEL', 'DBSOURCE', 'count']]\n",
    "def lookup(term, case=False, min_count=0):\n",
    "    mask = meas_count['LABEL'].str.contains(term, case=case, regex=True)\n",
    "    mask2 = meas_count['count'] >= min_count\n",
    "    ret = meas_count.loc[mask & mask2]\n",
    "    return ret\n",
    "\n",
    "def values_of(val):\n",
    "    return df[df['ITEMID'] == val]['VALUENUM'].value_counts()\n",
    "\n",
    "def units_of(val):\n",
    "    return df[df['ITEMID'] == val]['VALUEUOM'].value_counts()\n",
    "\n",
    "def units(_df):\n",
    "    return _df['VALUEUOM'].value_counts()\n",
    "\n",
    "from collections.abc import Iterable\n",
    "def filter(vals):\n",
    "    if isinstance(vals, Iterable):\n",
    "        vals = set(vals)\n",
    "    else:\n",
    "        vals = {vals}\n",
    "    return df[df['ITEMID'].isin(vals)]\n",
    "\n",
    "def clean(_df, name, asint=False, xlim=[0, 200]):\n",
    "    if 'VALUEUOM' in _df.columns:\n",
    "        print('=== Units ===')\n",
    "        print(units(_df))\n",
    "        print()\n",
    "    if 'LABEL' in _df.columns:\n",
    "        ax = sns.boxplot(_df, x='VALUENUM', y=_df['LABEL'] + ' (' + _df['ITEMID'].astype(str) + ')')\n",
    "        ax.set_ylabel('LABEL (ITEMID)')\n",
    "    else:\n",
    "        ax = sns.boxplot(_df, x='VALUENUM')\n",
    "    ax.set_xlim(xlim)\n",
    "    ret = _df[uidcols + ['VALUENUM']].dropna(axis=0).rename(columns={'VALUENUM': name})\n",
    "    ret = ret.groupby(uidcols)[name].mean()\n",
    "    if asint:\n",
    "        ret = ret.round().astype(int)\n",
    "    ret = ret.reset_index()\n",
    "    return ret"
   ]
  },
  {
   "cell_type": "markdown",
   "metadata": {},
   "source": [
    "# Extract Vitals"
   ]
  },
  {
   "cell_type": "markdown",
   "metadata": {},
   "source": [
    "### Glascow Coma Scale"
   ]
  },
  {
   "cell_type": "code",
   "execution_count": null,
   "metadata": {},
   "outputs": [],
   "source": [
    "lookup('GCS')"
   ]
  },
  {
   "cell_type": "code",
   "execution_count": null,
   "metadata": {},
   "outputs": [],
   "source": [
    "gcs_cv_itemid = 198\n",
    "gcs_mv_itemids = {220739, 223900, 223901}"
   ]
  },
  {
   "cell_type": "code",
   "execution_count": null,
   "metadata": {},
   "outputs": [],
   "source": [
    "gcs_cv_df = filter(gcs_cv_itemid)\n",
    "gcs_mv_df = filter(gcs_mv_itemids)"
   ]
  },
  {
   "cell_type": "code",
   "execution_count": null,
   "metadata": {},
   "outputs": [],
   "source": [
    "gcs_cv = gcs_cv_df.set_index(uidcols)['VALUENUM']\n",
    "gcs_mv = pd.pivot(gcs_mv_df, index=uidcols, columns='LABEL', values='VALUENUM').sum(axis=1, skipna=False)"
   ]
  },
  {
   "cell_type": "code",
   "execution_count": null,
   "metadata": {},
   "outputs": [],
   "source": [
    "gcs_df = pd.concat([gcs_cv, gcs_mv]).sort_index()\n",
    "gcs_df.name = 'VALUENUM'\n",
    "gcs_df = gcs_df.reset_index()"
   ]
  },
  {
   "cell_type": "code",
   "execution_count": null,
   "metadata": {},
   "outputs": [],
   "source": [
    "gcs = clean(gcs_df, 'GCS', asint=True, xlim=[0, 20])"
   ]
  },
  {
   "cell_type": "code",
   "execution_count": null,
   "metadata": {},
   "outputs": [],
   "source": [
    "gcs.to_csv(cleaned('GCS.csv'), index=False)"
   ]
  },
  {
   "cell_type": "markdown",
   "metadata": {},
   "source": [
    "### Heart Rate"
   ]
  },
  {
   "cell_type": "code",
   "execution_count": null,
   "metadata": {},
   "outputs": [],
   "source": [
    "lookup('heart rate|HR', min_count=10_000)"
   ]
  },
  {
   "cell_type": "code",
   "execution_count": null,
   "metadata": {},
   "outputs": [],
   "source": [
    "hr_itemids = {211, 220045}\n",
    "hr_df = filter(hr_itemids)"
   ]
  },
  {
   "cell_type": "code",
   "execution_count": null,
   "metadata": {},
   "outputs": [],
   "source": [
    "hr = clean(hr_df, 'HR', asint=True, xlim=[-50, 250])"
   ]
  },
  {
   "cell_type": "code",
   "execution_count": null,
   "metadata": {},
   "outputs": [],
   "source": [
    "hr.to_csv(cleaned('HR.csv'), index=False)"
   ]
  },
  {
   "cell_type": "markdown",
   "metadata": {},
   "source": [
    "### Respiratory Rate"
   ]
  },
  {
   "cell_type": "code",
   "execution_count": null,
   "metadata": {},
   "outputs": [],
   "source": [
    "rr_items = lookup('resp.*rate', min_count=10_000)\n",
    "rr_items"
   ]
  },
  {
   "cell_type": "code",
   "execution_count": null,
   "metadata": {},
   "outputs": [],
   "source": [
    "rr_itemids = set(rr_items['ITEMID'])\n",
    "rr_df = filter(rr_itemids)"
   ]
  },
  {
   "cell_type": "code",
   "execution_count": null,
   "metadata": {},
   "outputs": [],
   "source": [
    "rr = clean(rr_df, 'RR', asint=True, xlim=[-10, 200])"
   ]
  },
  {
   "cell_type": "code",
   "execution_count": null,
   "metadata": {},
   "outputs": [],
   "source": [
    "rr.to_csv(cleaned('RR.csv'), index=False)"
   ]
  },
  {
   "cell_type": "markdown",
   "metadata": {},
   "source": [
    "### Blood Pressure"
   ]
  },
  {
   "cell_type": "code",
   "execution_count": null,
   "metadata": {},
   "outputs": [],
   "source": [
    "bp_item_df = lookup('blood pressure|bp', min_count=10_000)\n",
    "bp_item_df = bp_item_df[\n",
    "    (~bp_item_df['LABEL'].str.contains('alarm', case=False)) &\n",
    "    (~bp_item_df['LABEL'].str.contains('IABP', case=False)) &\n",
    "    (~bp_item_df['LABEL'].str.contains('rate', case=False)) &\n",
    "    (~bp_item_df['LABEL'].str.contains('BP UAC', case=True)) &\n",
    "    (~bp_item_df['LABEL'].str.contains('BP PAL', case=True)) &\n",
    "    (~bp_item_df['LABEL'].str.contains('BP Cuff', case=True)) # weird range and weird units (cc/min)?\n",
    "]\n",
    "bp_item_df"
   ]
  },
  {
   "cell_type": "code",
   "execution_count": null,
   "metadata": {},
   "outputs": [],
   "source": [
    "sbp_itemids = [51,   220050]\n",
    "dbp_itemids = [8368, 220051]\n",
    "# mbp_itemids = [52,   220052]\n",
    "\n",
    "snbp_itemids = [455,  220179]\n",
    "dnbp_itemids = [8441, 220180]\n",
    "# mnbp_itemids = [456,  220181]"
   ]
  },
  {
   "cell_type": "code",
   "execution_count": null,
   "metadata": {},
   "outputs": [],
   "source": [
    "sbp_df = filter(sbp_itemids)\n",
    "dbp_df = filter(dbp_itemids)\n",
    "\n",
    "snbp_df = filter(snbp_itemids)\n",
    "dnbp_df = filter(dnbp_itemids)"
   ]
  },
  {
   "cell_type": "code",
   "execution_count": null,
   "metadata": {},
   "outputs": [],
   "source": [
    "sbp = clean(sbp_df, 'VALUENUM', asint=True)"
   ]
  },
  {
   "cell_type": "code",
   "execution_count": null,
   "metadata": {},
   "outputs": [],
   "source": [
    "dbp = clean(dbp_df, 'VALUENUM', asint=True)"
   ]
  },
  {
   "cell_type": "code",
   "execution_count": null,
   "metadata": {},
   "outputs": [],
   "source": [
    "snbp = clean(snbp_df, 'VALUENUM', asint=True)"
   ]
  },
  {
   "cell_type": "code",
   "execution_count": null,
   "metadata": {},
   "outputs": [],
   "source": [
    "dnbp = clean(dnbp_df, 'VALUENUM', asint=True)"
   ]
  },
  {
   "cell_type": "code",
   "execution_count": null,
   "metadata": {},
   "outputs": [],
   "source": [
    "bp_df = pd.concat([sbp, dbp])\n",
    "bp_df['LABEL'] = ['SBP'] * len(sbp) + ['DBP'] * len(dbp)\n",
    "\n",
    "nbp_df = pd.concat([snbp, dnbp])\n",
    "nbp_df['LABEL'] = ['SBP'] * len(snbp) + ['DBP'] * len(dnbp)"
   ]
  },
  {
   "cell_type": "code",
   "execution_count": null,
   "metadata": {},
   "outputs": [],
   "source": [
    "bp_pivot = pd.pivot(bp_df, index=uidcols, columns='LABEL', values='VALUENUM')\n",
    "nbp_pivot = pd.pivot(nbp_df, index=uidcols, columns='LABEL', values='VALUENUM')"
   ]
  },
  {
   "cell_type": "code",
   "execution_count": null,
   "metadata": {},
   "outputs": [],
   "source": [
    "bp = bp_pivot.dropna(axis=0, subset=['DBP', 'SBP']).astype(int).reset_index()\n",
    "bp.columns.name = None\n",
    "\n",
    "nbp = nbp_pivot.dropna(axis=0, subset=['DBP', 'SBP']).astype(int).reset_index()\n",
    "nbp.columns.name = None"
   ]
  },
  {
   "cell_type": "code",
   "execution_count": null,
   "metadata": {},
   "outputs": [],
   "source": [
    "bp.to_csv(cleaned('BP.csv'), index=False)\n",
    "nbp.to_csv(cleaned('NBP.csv'), index=False)"
   ]
  },
  {
   "cell_type": "markdown",
   "metadata": {},
   "source": [
    "### SpO2"
   ]
  },
  {
   "cell_type": "code",
   "execution_count": null,
   "metadata": {},
   "outputs": [],
   "source": [
    "lookup('pulse.*ox|spo2')"
   ]
  },
  {
   "cell_type": "code",
   "execution_count": null,
   "metadata": {},
   "outputs": [],
   "source": [
    "spo2_itemids = {220277, 646}\n",
    "spo2_df = filter(spo2_itemids)"
   ]
  },
  {
   "cell_type": "code",
   "execution_count": null,
   "metadata": {},
   "outputs": [],
   "source": [
    "spo2 = clean(spo2_df, 'SpO2', asint=True)"
   ]
  },
  {
   "cell_type": "code",
   "execution_count": null,
   "metadata": {},
   "outputs": [],
   "source": [
    "spo2.to_csv(cleaned('SpO2.csv'), index=False)"
   ]
  },
  {
   "cell_type": "markdown",
   "metadata": {},
   "source": [
    "# Extract Labs"
   ]
  },
  {
   "cell_type": "markdown",
   "metadata": {},
   "source": [
    "### HCO3"
   ]
  },
  {
   "cell_type": "code",
   "execution_count": null,
   "metadata": {},
   "outputs": [],
   "source": [
    "co2_items = lookup('HCO3|CO2|Bicarb|Carbon', min_count=1000)\n",
    "co2_items"
   ]
  },
  {
   "cell_type": "code",
   "execution_count": null,
   "metadata": {},
   "outputs": [],
   "source": [
    "filter(co2_items['ITEMID'])"
   ]
  },
  {
   "cell_type": "code",
   "execution_count": null,
   "metadata": {},
   "outputs": [],
   "source": [
    "filter(777)"
   ]
  },
  {
   "cell_type": "code",
   "execution_count": null,
   "metadata": {},
   "outputs": [],
   "source": [
    "co2_itemids = {227443, 787, 3810, 3808, 225698}\n",
    "co2_df = filter(co2_itemids)"
   ]
  },
  {
   "cell_type": "code",
   "execution_count": null,
   "metadata": {},
   "outputs": [],
   "source": [
    "ax = sns.boxplot(co2_df, x='VALUENUM', y='LABEL')\n",
    "ax.set_xlim([0, 100])"
   ]
  },
  {
   "cell_type": "code",
   "execution_count": null,
   "metadata": {},
   "outputs": [],
   "source": [
    "co2_df['VALUEUOM'].value_counts()"
   ]
  },
  {
   "cell_type": "code",
   "execution_count": null,
   "metadata": {},
   "outputs": [],
   "source": [
    "co2 = clean(co2_df, 'HCO3')\n",
    "co2"
   ]
  },
  {
   "cell_type": "code",
   "execution_count": null,
   "metadata": {},
   "outputs": [],
   "source": [
    "co2.to_csv(dpath('HCO3.csv'), index=False)"
   ]
  },
  {
   "cell_type": "markdown",
   "metadata": {},
   "source": [
    "### Cl"
   ]
  },
  {
   "cell_type": "code",
   "execution_count": null,
   "metadata": {},
   "outputs": [],
   "source": [
    "lookup('chlor')"
   ]
  },
  {
   "cell_type": "code",
   "execution_count": null,
   "metadata": {},
   "outputs": [],
   "source": [
    "lookup('Cl')"
   ]
  },
  {
   "cell_type": "code",
   "execution_count": null,
   "metadata": {},
   "outputs": [],
   "source": [
    "cl_itemids = {788, 220602, 1523, 3747, 226536}\n",
    "cl_df = filter(cl_itemids)"
   ]
  },
  {
   "cell_type": "code",
   "execution_count": null,
   "metadata": {},
   "outputs": [],
   "source": [
    "ax = sns.boxplot(cl_df, x='VALUENUM', y='LABEL')\n",
    "ax.set_xlim([0, 200])"
   ]
  },
  {
   "cell_type": "code",
   "execution_count": null,
   "metadata": {},
   "outputs": [],
   "source": [
    "units(cl_df)"
   ]
  },
  {
   "cell_type": "code",
   "execution_count": null,
   "metadata": {},
   "outputs": [],
   "source": [
    "cl = clean(cl_df, 'Cl')\n",
    "cl"
   ]
  },
  {
   "cell_type": "code",
   "execution_count": null,
   "metadata": {},
   "outputs": [],
   "source": [
    "cl.to_csv(dpath('Cl.csv'), index=False)"
   ]
  },
  {
   "cell_type": "markdown",
   "metadata": {},
   "source": [
    "### K"
   ]
  },
  {
   "cell_type": "code",
   "execution_count": null,
   "metadata": {},
   "outputs": [],
   "source": []
  },
  {
   "cell_type": "code",
   "execution_count": null,
   "metadata": {},
   "outputs": [],
   "source": []
  },
  {
   "cell_type": "markdown",
   "metadata": {},
   "source": [
    "### Na"
   ]
  },
  {
   "cell_type": "code",
   "execution_count": null,
   "metadata": {},
   "outputs": [],
   "source": []
  },
  {
   "cell_type": "markdown",
   "metadata": {},
   "source": [
    "### Anion Gap"
   ]
  },
  {
   "cell_type": "code",
   "execution_count": null,
   "metadata": {},
   "outputs": [],
   "source": []
  },
  {
   "cell_type": "markdown",
   "metadata": {},
   "source": [
    "### Ca"
   ]
  },
  {
   "cell_type": "code",
   "execution_count": null,
   "metadata": {},
   "outputs": [],
   "source": []
  },
  {
   "cell_type": "markdown",
   "metadata": {},
   "source": [
    "### Glucose"
   ]
  },
  {
   "cell_type": "code",
   "execution_count": null,
   "metadata": {},
   "outputs": [],
   "source": []
  },
  {
   "cell_type": "markdown",
   "metadata": {},
   "source": [
    "### Creatinine"
   ]
  },
  {
   "cell_type": "code",
   "execution_count": null,
   "metadata": {},
   "outputs": [],
   "source": []
  },
  {
   "cell_type": "markdown",
   "metadata": {},
   "source": [
    "### eGFR"
   ]
  },
  {
   "cell_type": "code",
   "execution_count": null,
   "metadata": {},
   "outputs": [],
   "source": []
  },
  {
   "cell_type": "markdown",
   "metadata": {},
   "source": [
    "### BUN"
   ]
  },
  {
   "cell_type": "code",
   "execution_count": null,
   "metadata": {},
   "outputs": [],
   "source": []
  },
  {
   "cell_type": "markdown",
   "metadata": {},
   "source": [
    "### Total Protein"
   ]
  },
  {
   "cell_type": "code",
   "execution_count": null,
   "metadata": {},
   "outputs": [],
   "source": []
  },
  {
   "cell_type": "markdown",
   "metadata": {},
   "source": [
    "### Albumin"
   ]
  },
  {
   "cell_type": "code",
   "execution_count": null,
   "metadata": {},
   "outputs": [],
   "source": []
  },
  {
   "cell_type": "markdown",
   "metadata": {},
   "source": [
    "### Total Bilirubin"
   ]
  },
  {
   "cell_type": "code",
   "execution_count": null,
   "metadata": {},
   "outputs": [],
   "source": []
  },
  {
   "cell_type": "markdown",
   "metadata": {},
   "source": [
    "### Conjugated Bilirubin"
   ]
  },
  {
   "cell_type": "code",
   "execution_count": null,
   "metadata": {},
   "outputs": [],
   "source": []
  },
  {
   "cell_type": "markdown",
   "metadata": {},
   "source": [
    "### Unconjugated Bilirubin"
   ]
  },
  {
   "cell_type": "code",
   "execution_count": null,
   "metadata": {},
   "outputs": [],
   "source": []
  },
  {
   "cell_type": "markdown",
   "metadata": {},
   "source": [
    "### Alk Phos"
   ]
  },
  {
   "cell_type": "code",
   "execution_count": null,
   "metadata": {},
   "outputs": [],
   "source": []
  },
  {
   "cell_type": "markdown",
   "metadata": {},
   "source": [
    "### AST"
   ]
  },
  {
   "cell_type": "code",
   "execution_count": null,
   "metadata": {},
   "outputs": [],
   "source": []
  },
  {
   "cell_type": "markdown",
   "metadata": {},
   "source": [
    "### ALT"
   ]
  },
  {
   "cell_type": "code",
   "execution_count": null,
   "metadata": {},
   "outputs": [],
   "source": []
  },
  {
   "cell_type": "code",
   "execution_count": null,
   "metadata": {},
   "outputs": [],
   "source": []
  }
 ],
 "metadata": {
  "kernelspec": {
   "display_name": "llm",
   "language": "python",
   "name": "python3"
  },
  "language_info": {
   "codemirror_mode": {
    "name": "ipython",
    "version": 3
   },
   "file_extension": ".py",
   "mimetype": "text/x-python",
   "name": "python",
   "nbconvert_exporter": "python",
   "pygments_lexer": "ipython3",
   "version": "3.11.4"
  }
 },
 "nbformat": 4,
 "nbformat_minor": 2
}
