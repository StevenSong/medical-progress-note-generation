{
 "cells": [
  {
   "cell_type": "code",
   "execution_count": null,
   "metadata": {},
   "outputs": [],
   "source": [
    "import os\n",
    "import sys\n",
    "\n",
    "import numpy as np\n",
    "import pandas as pd\n",
    "from tqdm import tqdm\n",
    "import matplotlib.pyplot as plt\n",
    "import seaborn as sns\n",
    "%matplotlib inline\n",
    "\n",
    "prefix = '/mnt/data1/mimic/iii'\n",
    "def dpath(fname):\n",
    "    return os.path.join(prefix, fname)\n",
    "\n",
    "def cleaned(fname):\n",
    "    return os.path.join(prefix, 'cleaned', fname)"
   ]
  },
  {
   "cell_type": "code",
   "execution_count": null,
   "metadata": {},
   "outputs": [],
   "source": [
    "uidcols = ['SUBJECT_ID', 'HADM_ID', 'CHARTTIME']"
   ]
  },
  {
   "cell_type": "markdown",
   "metadata": {},
   "source": [
    "# Extract Progress Notes"
   ]
  },
  {
   "cell_type": "code",
   "execution_count": null,
   "metadata": {},
   "outputs": [],
   "source": [
    "usecols = ['SUBJECT_ID', 'HADM_ID', 'CHARTDATE', 'CHARTTIME', 'CATEGORY', 'DESCRIPTION', 'ISERROR', 'TEXT']\n",
    "dtypes =  [int,          float,     object,      object,      str,        str,           float,     str]\n",
    "\n",
    "notes = pd.read_csv(\n",
    "    dpath('NOTEEVENTS.csv.gz'),\n",
    "    usecols=usecols,\n",
    "    dtype=dict(zip(usecols, dtypes)),\n",
    "    parse_dates=['CHARTDATE', 'CHARTTIME'],\n",
    ")\n",
    "notes = notes.dropna(subset='HADM_ID')\n",
    "notes['HADM_ID'] = notes['HADM_ID'].astype(int)"
   ]
  },
  {
   "cell_type": "code",
   "execution_count": null,
   "metadata": {},
   "outputs": [],
   "source": [
    "progress_notes = notes[\n",
    "    notes['CATEGORY'].isin({'Physician '}) &\n",
    "    notes['DESCRIPTION'].str.contains('Physician|Attending|Fellow|Resident|PGY', case=False, regex=True) &\n",
    "    notes['DESCRIPTION'].str.contains('prog', case=False) &\n",
    "    notes['ISERROR'].isna()\n",
    "]\n",
    "progress_notes = progress_notes.sort_values(uidcols)"
   ]
  },
  {
   "cell_type": "code",
   "execution_count": null,
   "metadata": {},
   "outputs": [],
   "source": [
    "print('Number of progress notes:', len(progress_notes))\n",
    "print('Number of unique progress note chart times:', len(progress_notes.drop_duplicates(uidcols)))\n",
    "print('Unique encounters with progress notes:', len(progress_notes['HADM_ID'].drop_duplicates()))\n",
    "assert not progress_notes['CHARTTIME'].isna().any()"
   ]
  },
  {
   "cell_type": "code",
   "execution_count": null,
   "metadata": {},
   "outputs": [],
   "source": [
    "progress_notes[uidcols + ['TEXT']].to_csv(cleaned('Progress_Notes.csv'), index=False)"
   ]
  },
  {
   "cell_type": "markdown",
   "metadata": {},
   "source": [
    "# Load CHARTEVENTS"
   ]
  },
  {
   "cell_type": "code",
   "execution_count": null,
   "metadata": {},
   "outputs": [],
   "source": [
    "_items = pd.read_csv(dpath('D_ITEMS.csv.gz'))\n",
    "items = _items.dropna(axis=0, subset='LABEL')\n",
    "\n",
    "parquet_file = dpath('CHARTEVENTS.parquet')\n",
    "if not os.path.exists(parquet_file):\n",
    "    chunksize = 1_000_000\n",
    "    usecols = ['SUBJECT_ID', 'HADM_ID', 'ITEMID', 'CHARTTIME', 'VALUE', 'VALUENUM', 'VALUEUOM']\n",
    "    dtypes =  [int,          int,       int,      object,      str,     float,      str]\n",
    "\n",
    "    chunks = []\n",
    "    it = pd.read_csv(\n",
    "        dpath('CHARTEVENTS.csv.gz'),\n",
    "        chunksize=chunksize,\n",
    "        usecols=usecols,\n",
    "        dtype=dict(zip(usecols, dtypes)),\n",
    "        parse_dates=['CHARTTIME'],\n",
    "    )\n",
    "\n",
    "    for chunk in tqdm(it):\n",
    "        chunks.append(chunk)\n",
    "\n",
    "    chart = pd.concat(chunks)\n",
    "\n",
    "    _df = chart.merge(items[['ITEMID', 'LABEL', 'DBSOURCE']], how='left', on='ITEMID')\n",
    "    _df = _df.sort_values(uidcols)\n",
    "    _df.to_parquet(parquet_file)\n",
    "\n",
    "df = pd.read_parquet(parquet_file)"
   ]
  },
  {
   "cell_type": "code",
   "execution_count": null,
   "metadata": {},
   "outputs": [],
   "source": [
    "meas_count = df['ITEMID'].value_counts().reset_index().merge(items[['ITEMID', 'LABEL', 'DBSOURCE']], how='left', on='ITEMID')[['ITEMID', 'LABEL', 'DBSOURCE', 'count']]\n",
    "def lookup(term, case=False, min_count=0):\n",
    "    mask = meas_count['LABEL'].str.contains(term, case=case, regex=True)\n",
    "    mask2 = meas_count['count'] >= min_count\n",
    "    ret = meas_count.loc[mask & mask2]\n",
    "    return ret\n",
    "\n",
    "def values_of(val):\n",
    "    return df[df['ITEMID'] == val]['VALUENUM'].value_counts()\n",
    "\n",
    "def units_of(val):\n",
    "    return df[df['ITEMID'] == val]['VALUEUOM'].value_counts()\n",
    "\n",
    "def units(_df):\n",
    "    return _df['VALUEUOM'].value_counts()\n",
    "\n",
    "from collections.abc import Iterable\n",
    "def filter(vals):\n",
    "    if isinstance(vals, Iterable):\n",
    "        vals = set(vals)\n",
    "    else:\n",
    "        vals = {vals}\n",
    "    return df[df['ITEMID'].isin(vals)]\n",
    "\n",
    "def clean(_df, name, asint=False, xlim=[0, 200]):\n",
    "    if 'VALUEUOM' in _df.columns:\n",
    "        print('=== Units ===')\n",
    "        print(units(_df))\n",
    "        print()\n",
    "    if 'LABEL' in _df.columns:\n",
    "        ax = sns.boxplot(_df, x='VALUENUM', y=_df['LABEL'] + ' (' + _df['ITEMID'].astype(str) + ')')\n",
    "        ax.set_ylabel('LABEL (ITEMID)')\n",
    "    else:\n",
    "        ax = sns.boxplot(_df, x='VALUENUM')\n",
    "    ax.set_xlim(xlim)\n",
    "    ret = _df[uidcols + ['VALUENUM']].dropna(axis=0).rename(columns={'VALUENUM': name})\n",
    "    ret = ret.groupby(uidcols)[name].mean()\n",
    "    if asint:\n",
    "        ret = ret.round().astype(int)\n",
    "    ret = ret.reset_index()\n",
    "    return ret"
   ]
  },
  {
   "cell_type": "markdown",
   "metadata": {},
   "source": [
    "# Extract Vitals"
   ]
  },
  {
   "cell_type": "markdown",
   "metadata": {},
   "source": [
    "### Glascow Coma Scale"
   ]
  },
  {
   "cell_type": "code",
   "execution_count": null,
   "metadata": {},
   "outputs": [],
   "source": [
    "lookup('GCS')"
   ]
  },
  {
   "cell_type": "code",
   "execution_count": null,
   "metadata": {},
   "outputs": [],
   "source": [
    "gcs_cv_itemid = 198\n",
    "gcs_mv_itemids = {220739, 223900, 223901}"
   ]
  },
  {
   "cell_type": "code",
   "execution_count": null,
   "metadata": {},
   "outputs": [],
   "source": [
    "gcs_cv_df = filter(gcs_cv_itemid)\n",
    "gcs_mv_df = filter(gcs_mv_itemids)"
   ]
  },
  {
   "cell_type": "code",
   "execution_count": null,
   "metadata": {},
   "outputs": [],
   "source": [
    "gcs_cv = gcs_cv_df.set_index(uidcols)['VALUENUM']\n",
    "gcs_mv = pd.pivot(gcs_mv_df, index=uidcols, columns='LABEL', values='VALUENUM').sum(axis=1, skipna=False)"
   ]
  },
  {
   "cell_type": "code",
   "execution_count": null,
   "metadata": {},
   "outputs": [],
   "source": [
    "gcs_df = pd.concat([gcs_cv, gcs_mv]).sort_index()\n",
    "gcs_df.name = 'VALUENUM'\n",
    "gcs_df = gcs_df.reset_index()"
   ]
  },
  {
   "cell_type": "code",
   "execution_count": null,
   "metadata": {},
   "outputs": [],
   "source": [
    "gcs = clean(gcs_df, 'GCS', asint=True, xlim=[0, 20])"
   ]
  },
  {
   "cell_type": "code",
   "execution_count": null,
   "metadata": {},
   "outputs": [],
   "source": [
    "gcs.to_csv(cleaned('GCS.csv'), index=False)"
   ]
  },
  {
   "cell_type": "markdown",
   "metadata": {},
   "source": [
    "### Heart Rate"
   ]
  },
  {
   "cell_type": "code",
   "execution_count": null,
   "metadata": {},
   "outputs": [],
   "source": [
    "lookup('heart rate|HR', min_count=10_000)"
   ]
  },
  {
   "cell_type": "code",
   "execution_count": null,
   "metadata": {},
   "outputs": [],
   "source": [
    "hr_itemids = {211, 220045}\n",
    "hr_df = filter(hr_itemids)"
   ]
  },
  {
   "cell_type": "code",
   "execution_count": null,
   "metadata": {},
   "outputs": [],
   "source": [
    "hr = clean(hr_df, 'HR', asint=True, xlim=[-50, 250])"
   ]
  },
  {
   "cell_type": "code",
   "execution_count": null,
   "metadata": {},
   "outputs": [],
   "source": [
    "hr.to_csv(cleaned('HR.csv'), index=False)"
   ]
  },
  {
   "cell_type": "markdown",
   "metadata": {},
   "source": [
    "### Respiratory Rate"
   ]
  },
  {
   "cell_type": "code",
   "execution_count": null,
   "metadata": {},
   "outputs": [],
   "source": [
    "rr_items = lookup('resp.*rate', min_count=10_000)\n",
    "rr_items"
   ]
  },
  {
   "cell_type": "code",
   "execution_count": null,
   "metadata": {},
   "outputs": [],
   "source": [
    "rr_itemids = set(rr_items['ITEMID'])\n",
    "rr_df = filter(rr_itemids)"
   ]
  },
  {
   "cell_type": "code",
   "execution_count": null,
   "metadata": {},
   "outputs": [],
   "source": [
    "rr = clean(rr_df, 'RR', asint=True, xlim=[-10, 200])"
   ]
  },
  {
   "cell_type": "code",
   "execution_count": null,
   "metadata": {},
   "outputs": [],
   "source": [
    "rr.to_csv(cleaned('RR.csv'), index=False)"
   ]
  },
  {
   "cell_type": "markdown",
   "metadata": {},
   "source": [
    "### Blood Pressure"
   ]
  },
  {
   "cell_type": "code",
   "execution_count": null,
   "metadata": {},
   "outputs": [],
   "source": [
    "bp_item_df = lookup('blood pressure|bp', min_count=10_000)\n",
    "bp_item_df = bp_item_df[\n",
    "    (~bp_item_df['LABEL'].str.contains('alarm', case=False)) &\n",
    "    (~bp_item_df['LABEL'].str.contains('IABP', case=False)) &\n",
    "    (~bp_item_df['LABEL'].str.contains('rate', case=False)) &\n",
    "    (~bp_item_df['LABEL'].str.contains('BP UAC', case=True)) &\n",
    "    (~bp_item_df['LABEL'].str.contains('BP PAL', case=True)) &\n",
    "    (~bp_item_df['LABEL'].str.contains('BP Cuff', case=True)) # weird range and weird units (cc/min)?\n",
    "]\n",
    "bp_item_df"
   ]
  },
  {
   "cell_type": "code",
   "execution_count": null,
   "metadata": {},
   "outputs": [],
   "source": [
    "sbp_itemids = [51,   220050]\n",
    "dbp_itemids = [8368, 220051]\n",
    "# mbp_itemids = [52,   220052]\n",
    "\n",
    "snbp_itemids = [455,  220179]\n",
    "dnbp_itemids = [8441, 220180]\n",
    "# mnbp_itemids = [456,  220181]"
   ]
  },
  {
   "cell_type": "code",
   "execution_count": null,
   "metadata": {},
   "outputs": [],
   "source": [
    "sbp_df = filter(sbp_itemids)\n",
    "dbp_df = filter(dbp_itemids)\n",
    "\n",
    "snbp_df = filter(snbp_itemids)\n",
    "dnbp_df = filter(dnbp_itemids)"
   ]
  },
  {
   "cell_type": "code",
   "execution_count": null,
   "metadata": {},
   "outputs": [],
   "source": [
    "sbp = clean(sbp_df, 'VALUENUM', asint=True)"
   ]
  },
  {
   "cell_type": "code",
   "execution_count": null,
   "metadata": {},
   "outputs": [],
   "source": [
    "dbp = clean(dbp_df, 'VALUENUM', asint=True)"
   ]
  },
  {
   "cell_type": "code",
   "execution_count": null,
   "metadata": {},
   "outputs": [],
   "source": [
    "snbp = clean(snbp_df, 'VALUENUM', asint=True)"
   ]
  },
  {
   "cell_type": "code",
   "execution_count": null,
   "metadata": {},
   "outputs": [],
   "source": [
    "dnbp = clean(dnbp_df, 'VALUENUM', asint=True)"
   ]
  },
  {
   "cell_type": "code",
   "execution_count": null,
   "metadata": {},
   "outputs": [],
   "source": [
    "bp_df = pd.concat([sbp, dbp])\n",
    "bp_df['LABEL'] = ['SBP'] * len(sbp) + ['DBP'] * len(dbp)\n",
    "\n",
    "nbp_df = pd.concat([snbp, dnbp])\n",
    "nbp_df['LABEL'] = ['SBP'] * len(snbp) + ['DBP'] * len(dnbp)"
   ]
  },
  {
   "cell_type": "code",
   "execution_count": null,
   "metadata": {},
   "outputs": [],
   "source": [
    "bp_pivot = pd.pivot(bp_df, index=uidcols, columns='LABEL', values='VALUENUM')\n",
    "nbp_pivot = pd.pivot(nbp_df, index=uidcols, columns='LABEL', values='VALUENUM')"
   ]
  },
  {
   "cell_type": "code",
   "execution_count": null,
   "metadata": {},
   "outputs": [],
   "source": [
    "bp = bp_pivot.dropna(axis=0, subset=['DBP', 'SBP']).astype(int).reset_index()\n",
    "bp.columns.name = None\n",
    "\n",
    "nbp = nbp_pivot.dropna(axis=0, subset=['DBP', 'SBP']).astype(int).reset_index()\n",
    "nbp.columns.name = None"
   ]
  },
  {
   "cell_type": "code",
   "execution_count": null,
   "metadata": {},
   "outputs": [],
   "source": [
    "bp.to_csv(cleaned('BP.csv'), index=False)\n",
    "nbp.to_csv(cleaned('NBP.csv'), index=False)"
   ]
  },
  {
   "cell_type": "markdown",
   "metadata": {},
   "source": [
    "### SpO2"
   ]
  },
  {
   "cell_type": "code",
   "execution_count": null,
   "metadata": {},
   "outputs": [],
   "source": [
    "lookup('pulse.*ox|spo2')"
   ]
  },
  {
   "cell_type": "code",
   "execution_count": null,
   "metadata": {},
   "outputs": [],
   "source": [
    "spo2_itemids = {220277, 646}\n",
    "spo2_df = filter(spo2_itemids)"
   ]
  },
  {
   "cell_type": "code",
   "execution_count": null,
   "metadata": {},
   "outputs": [],
   "source": [
    "spo2 = clean(spo2_df, 'SpO2', asint=True)"
   ]
  },
  {
   "cell_type": "code",
   "execution_count": null,
   "metadata": {},
   "outputs": [],
   "source": [
    "spo2.to_csv(cleaned('SpO2.csv'), index=False)"
   ]
  },
  {
   "cell_type": "markdown",
   "metadata": {},
   "source": [
    "# Extract Labs"
   ]
  },
  {
   "cell_type": "markdown",
   "metadata": {},
   "source": [
    "### HCO3"
   ]
  },
  {
   "cell_type": "code",
   "execution_count": null,
   "metadata": {},
   "outputs": [],
   "source": [
    "co2_items = lookup('HCO3|CO2|Bicarb|Carbon', min_count=1000)\n",
    "co2_items"
   ]
  },
  {
   "cell_type": "code",
   "execution_count": null,
   "metadata": {},
   "outputs": [],
   "source": [
    "filter(co2_items['ITEMID'])"
   ]
  },
  {
   "cell_type": "code",
   "execution_count": null,
   "metadata": {},
   "outputs": [],
   "source": [
    "filter(777)"
   ]
  },
  {
   "cell_type": "code",
   "execution_count": null,
   "metadata": {},
   "outputs": [],
   "source": [
    "co2_itemids = {227443, 787, 3810, 3808, 225698}\n",
    "co2_df = filter(co2_itemids)"
   ]
  },
  {
   "cell_type": "code",
   "execution_count": null,
   "metadata": {},
   "outputs": [],
   "source": [
    "ax = sns.boxplot(co2_df, x='VALUENUM', y='LABEL')\n",
    "ax.set_xlim([0, 100])"
   ]
  },
  {
   "cell_type": "code",
   "execution_count": null,
   "metadata": {},
   "outputs": [],
   "source": [
    "co2_df['VALUEUOM'].value_counts()"
   ]
  },
  {
   "cell_type": "code",
   "execution_count": null,
   "metadata": {},
   "outputs": [],
   "source": [
    "co2 = clean(co2_df, 'HCO3')\n",
    "co2"
   ]
  },
  {
   "cell_type": "code",
   "execution_count": null,
   "metadata": {},
   "outputs": [],
   "source": [
    "co2.to_csv(dpath('HCO3.csv'), index=False)"
   ]
  },
  {
   "cell_type": "markdown",
   "metadata": {},
   "source": [
    "### Cl"
   ]
  },
  {
   "cell_type": "code",
   "execution_count": null,
   "metadata": {},
   "outputs": [],
   "source": [
    "lookup('chlor')"
   ]
  },
  {
   "cell_type": "code",
   "execution_count": null,
   "metadata": {},
   "outputs": [],
   "source": [
    "lookup('Cl')"
   ]
  },
  {
   "cell_type": "code",
   "execution_count": null,
   "metadata": {},
   "outputs": [],
   "source": [
    "cl_itemids = {788, 220602, 1523, 3747, 226536}\n",
    "cl_df = filter(cl_itemids)"
   ]
  },
  {
   "cell_type": "code",
   "execution_count": null,
   "metadata": {},
   "outputs": [],
   "source": [
    "ax = sns.boxplot(cl_df, x='VALUENUM', y='LABEL')\n",
    "ax.set_xlim([0, 200])"
   ]
  },
  {
   "cell_type": "code",
   "execution_count": null,
   "metadata": {},
   "outputs": [],
   "source": [
    "units(cl_df)"
   ]
  },
  {
   "cell_type": "code",
   "execution_count": null,
   "metadata": {},
   "outputs": [],
   "source": [
    "cl = clean(cl_df, 'Cl')\n",
    "cl"
   ]
  },
  {
   "cell_type": "code",
   "execution_count": null,
   "metadata": {},
   "outputs": [],
   "source": [
    "cl.to_csv(dpath('Cl.csv'), index=False)"
   ]
  },
  {
   "cell_type": "markdown",
   "metadata": {},
   "source": [
    "### K"
   ]
  },
  {
   "cell_type": "code",
   "execution_count": null,
   "metadata": {},
   "outputs": [],
   "source": []
  },
  {
   "cell_type": "code",
   "execution_count": null,
   "metadata": {},
   "outputs": [],
   "source": []
  },
  {
   "cell_type": "markdown",
   "metadata": {},
   "source": [
    "### Na"
   ]
  },
  {
   "cell_type": "code",
   "execution_count": null,
   "metadata": {},
   "outputs": [],
   "source": []
  },
  {
   "cell_type": "markdown",
   "metadata": {},
   "source": [
    "### Anion Gap"
   ]
  },
  {
   "cell_type": "code",
   "execution_count": null,
   "metadata": {},
   "outputs": [],
   "source": []
  },
  {
   "cell_type": "markdown",
   "metadata": {},
   "source": [
    "### Ca"
   ]
  },
  {
   "cell_type": "code",
   "execution_count": null,
   "metadata": {},
   "outputs": [],
   "source": []
  },
  {
   "cell_type": "markdown",
   "metadata": {},
   "source": [
    "### Glucose"
   ]
  },
  {
   "cell_type": "code",
   "execution_count": null,
   "metadata": {},
   "outputs": [],
   "source": []
  },
  {
   "cell_type": "markdown",
   "metadata": {},
   "source": [
    "### Creatinine"
   ]
  },
  {
   "cell_type": "code",
   "execution_count": null,
   "metadata": {},
   "outputs": [],
   "source": []
  },
  {
   "cell_type": "markdown",
   "metadata": {},
   "source": [
    "### eGFR"
   ]
  },
  {
   "cell_type": "code",
   "execution_count": null,
   "metadata": {},
   "outputs": [],
   "source": []
  },
  {
   "cell_type": "markdown",
   "metadata": {},
   "source": [
    "### BUN"
   ]
  },
  {
   "cell_type": "code",
   "execution_count": null,
   "metadata": {},
   "outputs": [],
   "source": []
  },
  {
   "cell_type": "markdown",
   "metadata": {},
   "source": [
    "### Total Protein"
   ]
  },
  {
   "cell_type": "code",
   "execution_count": null,
   "metadata": {},
   "outputs": [],
   "source": []
  },
  {
   "cell_type": "markdown",
   "metadata": {},
   "source": [
    "### Albumin"
   ]
  },
  {
   "cell_type": "code",
   "execution_count": null,
   "metadata": {},
   "outputs": [],
   "source": []
  },
  {
   "cell_type": "markdown",
   "metadata": {},
   "source": [
    "### Total Bilirubin"
   ]
  },
  {
   "cell_type": "code",
   "execution_count": null,
   "metadata": {},
   "outputs": [],
   "source": []
  },
  {
   "cell_type": "markdown",
   "metadata": {},
   "source": [
    "### Conjugated Bilirubin"
   ]
  },
  {
   "cell_type": "code",
   "execution_count": null,
   "metadata": {},
   "outputs": [],
   "source": []
  },
  {
   "cell_type": "markdown",
   "metadata": {},
   "source": [
    "### Unconjugated Bilirubin"
   ]
  },
  {
   "cell_type": "code",
   "execution_count": null,
   "metadata": {},
   "outputs": [],
   "source": []
  },
  {
   "cell_type": "markdown",
   "metadata": {},
   "source": [
    "### Alk Phos"
   ]
  },
  {
   "cell_type": "code",
   "execution_count": null,
   "metadata": {},
   "outputs": [],
   "source": []
  },
  {
   "cell_type": "markdown",
   "metadata": {},
   "source": [
    "### AST"
   ]
  },
  {
   "cell_type": "code",
   "execution_count": null,
   "metadata": {},
   "outputs": [],
   "source": []
  },
  {
   "cell_type": "markdown",
   "metadata": {},
   "source": [
    "### ALT"
   ]
  },
  {
   "cell_type": "code",
   "execution_count": null,
   "metadata": {},
   "outputs": [],
   "source": []
  },
  {
   "cell_type": "markdown",
   "metadata": {},
   "source": [
    "# Extract Progress Notes"
   ]
  },
  {
   "cell_type": "code",
   "execution_count": null,
   "metadata": {},
   "outputs": [],
   "source": [
    "usecols = ['SUBJECT_ID', 'HADM_ID', 'CHARTDATE', 'CHARTTIME', 'CATEGORY', 'DESCRIPTION', 'ISERROR', 'TEXT']\n",
    "dtypes =  [int,          float,     object,      object,      str,        str,           float,     str]\n",
    "\n",
    "notes = pd.read_csv(\n",
    "    dpath('NOTEEVENTS.csv.gz'),\n",
    "    usecols=usecols,\n",
    "    dtype=dict(zip(usecols, dtypes)),\n",
    "    parse_dates=['CHARTDATE', 'CHARTTIME'],\n",
    ")"
   ]
  },
  {
   "cell_type": "code",
   "execution_count": null,
   "metadata": {},
   "outputs": [],
   "source": [
    "notes = notes.dropna(axis=0, subset=['HADM_ID'])\n",
    "notes['HADM_ID'] = notes['HADM_ID'].astype(int)"
   ]
  },
  {
   "cell_type": "code",
   "execution_count": null,
   "metadata": {},
   "outputs": [],
   "source": [
    "note_types = {\n",
    "    'Attendinding Progress Note',\n",
    "    'Attending / Resident Progress Note',\n",
    "    'Attending Daily Progress Note',\n",
    "    'Attending Progress Note',\n",
    "    'Attending Progress Note - MICU',\n",
    "    'Attending Progress note',\n",
    "    'Attending progress note',\n",
    "    'Attending/Physician Resident Progress Note - MICU',\n",
    "    'Attg Progress Note',\n",
    "    'CCU Progress Note',\n",
    "    'CCU Resident Daily Progress Note',\n",
    "    'CCU Resident Progress Note',\n",
    "    'CCU Staff Progress Note',\n",
    "    'CCU progress note',\n",
    "    'CCU resident progress note',\n",
    "    'Cardiology Resident Progress Note',\n",
    "    'Cardiology Resident Progress Note - CCU',\n",
    "    'Cardiology Weekend Consult Attending Progress Note',\n",
    "    'Cardiology Weekend Consult Progress Note',\n",
    "    'Cardiology- Electrophysiology Progress Note',\n",
    "    'Critical care attending Progress note',\n",
    "    'Critical care attending progress note',\n",
    "    'Critical care progress note',\n",
    "    'Daily Progress Note',\n",
    "    'EP Fellow Progress Note',\n",
    "    'EP Progress Note',\n",
    "    'EPS Progress Note',\n",
    "    'Electrophysiology Consult Progress Note',\n",
    "    'FICU resident progress note',\n",
    "    'FICU resident progress note/MICU staff addendum',\n",
    "    'Felllow / Physician Attending Progress Note - MICU',\n",
    "    'Fellow / Physician Attending Progress Note - MICU',\n",
    "    'Fellow Progress Note',\n",
    "    'Fellow Progress Note - MICU',\n",
    "    'Fellow/Attending Progress Note - MICU',\n",
    "    'GI  Consult Progress Note',\n",
    "    'ICU - Resident Progress Note',\n",
    "    'ICU Atending Progress note',\n",
    "    'ICU Attending Progress Note',\n",
    "    'ICU Attending Progress Note - family meeting',\n",
    "    'ICU Attending Progress Report',\n",
    "    'ICU Attending/Fellow Progress Note - MICU',\n",
    "    'ICU Fellow Progress Note - MICU',\n",
    "    'ICU Fellow Progress Note - MICU atending addendum',\n",
    "    'ICU Fellow Progress Note - MICU attedning addendum',\n",
    "    'ICU Fellow Progress Note - MICU attending addendum',\n",
    "    'ICU Fellow Progress Note - attending addendum MICU',\n",
    "    'ICU Fellow Progress Note - attending addendum-MICU',\n",
    "    'ICU Fellow Progress Note -attending addendum- MICU',\n",
    "    'ICU Fellow Progress Note -attending addendum-MICU',\n",
    "    'ICU Fellow Progress Note /attending addendum- MICU',\n",
    "    'ICU Fellow/Attending Progress Note - MICU',\n",
    "    'ICU Physican Progress Note',\n",
    "    'ICU Physician Progress Note',\n",
    "    'ICU Physician Progress Note -- Attending and Resid',\n",
    "    'ICU Progress Note',\n",
    "    'ICU Resident Progress Note',\n",
    "    'MICU  staff progress note',\n",
    "    'MICU - Resident Progress Note',\n",
    "    'MICU - Resident/Attending Progress Note',\n",
    "    'MICU Attending / Resident Progress Note',\n",
    "    'MICU Attending Physician Progress Note',\n",
    "    'MICU Attending Progress / Family Meeting Note',\n",
    "    'MICU Attending Progress NOte',\n",
    "    'MICU Attending Progress Note',\n",
    "    'MICU Attending Progress Note - Family Meeting',\n",
    "    'MICU Fellow Progress Note',\n",
    "    'MICU Fellow Progress note',\n",
    "    'MICU Fellow/Attending Progess Note',\n",
    "    'MICU Fellow/Attending Progress Note',\n",
    "    'MICU MS-IV/Attending Progress Note',\n",
    "    'MICU Physician Progress Note',\n",
    "    'MICU Resident / Attending Progress Note',\n",
    "    'MICU Resident Daily Progress Note',\n",
    "    'MICU Resident Progres Note',\n",
    "    'MICU Resident Progress Note',\n",
    "    'MICU Resident Progress note',\n",
    "    'MICU Resident progress note',\n",
    "    'MICU Resident/Attending Daily Progress Note',\n",
    "    'MICU Resident/Attending Progress Note',\n",
    "    'MICU attending Progress Note',\n",
    "    'MICU attending addendum/progress note',\n",
    "    'MICU attending progress note',\n",
    "    'MICU resident physician progress note',\n",
    "    'MICU resident progress note',\n",
    "    'MICU staff Progress Note',\n",
    "    'MICU staff progress note',\n",
    "    'MS4 Progress Note',\n",
    "    'Med Student Progress Note - CCU',\n",
    "    'Medical Student CCU Progress Note',\n",
    "    'Medical Student Progress Note',\n",
    "    'Medical Student Progress Note - CCU',\n",
    "    'Medical Student Progress Note - MICU',\n",
    "    'Medical Student Progress Note CCU',\n",
    "    'Medical Student/Attending Progress Note - MICU',\n",
    "    'Medical student Progress Note - MICU',\n",
    "    'Micu staff progress note',\n",
    "    'PGY 1 progress note',\n",
    "    'PGY-1 Progress Note',\n",
    "    'PGY1 - Daily Progress Note',\n",
    "    'PGY1 - progress note MICU',\n",
    "    'PGY1 CCU Team Progress Note',\n",
    "    'PGY1 Progress Note',\n",
    "    'PGY1 Progress note',\n",
    "    'PGY1 Resident Progress note',\n",
    "    'PGY1- Daily Progress Note, MICU',\n",
    "    'PGY1/Attending Daily Progress note MICU',\n",
    "    'PGYI progess note',\n",
    "    'PGYI progress note',\n",
    "    'PROGRESS NOTE',\n",
    "    'PROGRESS NOTE - RESIDENT',\n",
    "    'Physican Resident Progress Note',\n",
    "    'Physicial Resident Progress Note - MICU',\n",
    "    'Physician Attending  Progress Note',\n",
    "    'Physician Attending / Resident Progress Note',\n",
    "    'Physician Attending Fellow Progress Note - MICU',\n",
    "    'Physician Attending Progress Note',\n",
    "    'Physician Attending and Fellow Progress Note - MIC',\n",
    "    'Physician Attending and fellow Progress Note - MIC',\n",
    "    'Physician Attending/ Resident Progress Note - MICU',\n",
    "    'Physician Attending/Fellow Progress Note - MICU',\n",
    "    'Physician Attending/Resident Progress Note',\n",
    "    'Physician Attending/Resident Progress Note - CCU',\n",
    "    'Physician Attending/Resident Progress Note - MICU',\n",
    "    'Physician Consult Progress Note',\n",
    "    'Physician Felllow / Attending Progress Note - MICU',\n",
    "    'Physician Felllow/Attending Progress Note - MICU',\n",
    "    'Physician Fellow /  Attending Progress Note - MICU',\n",
    "    'Physician Fellow / Attending Progress Note - MICU',\n",
    "    'Physician Fellow Progress Note',\n",
    "    'Physician Fellow Progress Note - MICU',\n",
    "    'Physician Fellow Progress Note - MICU attending ad',\n",
    "    'Physician Fellow Progress Note - MICU attending pr',\n",
    "    'Physician Fellow Progress Note -MICU attending add',\n",
    "    'Physician Fellow Progress Note -MICU attending not',\n",
    "    'Physician Fellow Progress Note -attending addendum',\n",
    "    'Physician Fellow Progress Note /attending addendum',\n",
    "    'Physician Fellow Progress Note-MICU attending adde',\n",
    "    'Physician Fellow Progress Note/Attendign progress',\n",
    "    'Physician Fellow Progress Note/MICU attending adde',\n",
    "    'Physician Fellow and Attending Progress Note - MIC',\n",
    "    'Physician Fellow/ Attending Progress Note - MICU',\n",
    "    'Physician Fellow/Attending Progress Note - MICU',\n",
    "    'Physician Felow/Attending Progress Note - MICU',\n",
    "    'Physician Medical Student Progress Note - MICU',\n",
    "    'Physician Medical Student/Attending Progress Note',\n",
    "    'Physician Progress',\n",
    "    'Physician Progress Note',\n",
    "    'Physician Progress Note - CCU',\n",
    "    'Physician Progress Note - MICU',\n",
    "    'Physician Progress Note - Resident and Attending',\n",
    "    'Physician Progress Note CCU',\n",
    "    'Physician Progress Note-CCU',\n",
    "    'Physician Residen Progress Note',\n",
    "    'Physician Residen/Attending Progress Note - MICU',\n",
    "    'Physician Resident / Attending Progress Note',\n",
    "    'Physician Resident / Attending Progress Note - MIC',\n",
    "    'Physician Resident / attending Progress Note - MIC',\n",
    "    'Physician Resident /Attending Progress Note',\n",
    "    'Physician Resident /Attending Progress Note - MICU',\n",
    "    'Physician Resident /attending Progress Note - MICU',\n",
    "    'Physician Resident Admission/Progress Note - CCU',\n",
    "    'Physician Resident MICU Progression Note',\n",
    "    'Physician Resident Progess Note',\n",
    "    'Physician Resident Progress Note',\n",
    "    'Physician Resident and  MICU attending --MICU prog',\n",
    "    'Physician Resident and Attending  Progress Note',\n",
    "    'Physician Resident and Attending Progress Note',\n",
    "    'Physician Resident and Attending Progress Note - M',\n",
    "    'Physician Resident and Attg Progress Note - MICU',\n",
    "    'Physician Resident and attending  Progress Note',\n",
    "    'Physician Resident and attending  Progress Note -',\n",
    "    'Physician Resident and attending Progress Note',\n",
    "    'Physician Resident attending  Progress Note - MICU',\n",
    "    'Physician Resident-Attending Progress Note',\n",
    "    'Physician Resident/ Attending  Progress Note',\n",
    "    'Physician Resident/ attending Progress Note - MICU',\n",
    "    'Physician Resident/Atending Progress Note - MICU',\n",
    "    'Physician Resident/Attending  Progress Note',\n",
    "    'Physician Resident/Attending  Progress Note - MICU',\n",
    "    'Physician Resident/Attending Progess Note',\n",
    "    'Physician Resident/Attending Progress Note',\n",
    "    'Physician Resident/Attending Progress Note - CCU',\n",
    "    'Physician Resident/Attending Progress Note - MICU',\n",
    "    'Physician Resident/Attending Progress Note - MICU`',\n",
    "    'Physician Resident/Attending Progress Note - MICUf',\n",
    "    'Physician Resident/attending  Progress Note - MICU',\n",
    "    'Physician Resident/attending Progress Note - MICU',\n",
    "    'Physician Residentand Attending  Progress Note',\n",
    "    'Physician Residentand attending  Progress Note',\n",
    "    'Physician Residentand attending  Progress Note - M',\n",
    "    'Physician Surgical Progress Note',\n",
    "    'Physician fellow Progress Note',\n",
    "    'Physician progress note',\n",
    "    'Progress Note',\n",
    "    'Progress Note - Resident',\n",
    "    'Progress Note CCU',\n",
    "    'Progress Notes',\n",
    "    'Progress note',\n",
    "    'Progress note - Resident',\n",
    "    'RESIDENT MICU PROGRESS NOTE',\n",
    "    'RESIDENT PROGRESS NOTE - CCU',\n",
    "    'RESIDENT PROGRESS NOTE-CCU',\n",
    "    'Resident / Attending Progress Note',\n",
    "    'Resident / Attending Progress Notes',\n",
    "    'Resident Daily Progress Note',\n",
    "    'Resident Daily Progress note',\n",
    "    'Resident MICU Progress Note',\n",
    "    'Resident MICU progress note',\n",
    "    'Resident Physician Progress Note',\n",
    "    'Resident Physician Progress Note - CCU',\n",
    "    'Resident Physician Progress Note - MICU',\n",
    "    'Resident Physician Progress Note-CCU',\n",
    "    'Resident Progess Note',\n",
    "    'Resident Progress Not - MICU',\n",
    "    'Resident Progress Note',\n",
    "    'Resident Progress Note - CCU',\n",
    "    'Resident Progress Note - MICU',\n",
    "    'Resident Progress Note / Attending Addendum',\n",
    "    'Resident Progress Note CCU',\n",
    "    'Resident Progress Note CCu',\n",
    "    'Resident Progress Note MICU',\n",
    "    'Resident Progress Note, CCU',\n",
    "    'Resident Progress Note, CCu',\n",
    "    'Resident Progress Note- CCU',\n",
    "    'Resident Progress Note- MICU',\n",
    "    'Resident Progress Note-MICU',\n",
    "    'Resident Progress Note/Attending Addendum',\n",
    "    'Resident Progress note',\n",
    "    'Resident progress Note',\n",
    "    'Resident progress note',\n",
    "    'Resident progress note - TSICU',\n",
    "    'Resident progress note ICU',\n",
    "    'Resident/Attending Progress Note',\n",
    "    'Resident/Attending Progress Note - MICU',\n",
    "    'Surgery Progress note',\n",
    "    'TRICU resident progress note',\n",
    "    'TSICU progress note',\n",
    "    'crit care staff progress note',\n",
    "    'critical care Progress note',\n",
    "    'critical care attending progress note',\n",
    "    'critical care progress note',\n",
    "    'micu attending progress note',\n",
    "    'progress note',\n",
    "}"
   ]
  },
  {
   "cell_type": "code",
   "execution_count": null,
   "metadata": {},
   "outputs": [],
   "source": [
    "note_cats = {\n",
    "    'Physician ', # beware the trailing space\n",
    "    'General',\n",
    "    'Consult',\n",
    "}"
   ]
  },
  {
   "cell_type": "code",
   "execution_count": null,
   "metadata": {},
   "outputs": [],
   "source": [
    "prog_notes = notes.loc[(notes['DESCRIPTION'].isin(note_types)) & (notes['CATEGORY'].isin(note_cats))]\n",
    "assert not prog_notes['CHARTTIME'].isna().any()\n",
    "prog_notes = prog_notes[prog_notes['ISERROR'] != 1]\n",
    "prog_notes = prog_notes[['SUBJECT_ID', 'HADM_ID', 'CHARTTIME', 'TEXT']]\n",
    "prog_notes = prog_notes.sort_values(['SUBJECT_ID', 'HADM_ID', 'CHARTTIME'])"
   ]
  },
  {
   "cell_type": "code",
   "execution_count": null,
   "metadata": {},
   "outputs": [],
   "source": [
    "prog_notes"
   ]
  },
  {
   "cell_type": "code",
   "execution_count": null,
   "metadata": {},
   "outputs": [],
   "source": [
    "prog_notes.to_csv(dpath('Progress_Notes.csv'), index=False)"
   ]
  },
  {
   "cell_type": "code",
   "execution_count": null,
   "metadata": {},
   "outputs": [],
   "source": [
    "prog_notes['HADM_ID'].drop_duplicates()"
   ]
  },
  {
   "cell_type": "code",
   "execution_count": null,
   "metadata": {},
   "outputs": [],
   "source": [
    "prog_notes['SUBJECT_ID'].drop_duplicates()"
   ]
  },
  {
   "cell_type": "code",
   "execution_count": null,
   "metadata": {},
   "outputs": [],
   "source": []
  }
 ],
 "metadata": {
  "kernelspec": {
   "display_name": "llm",
   "language": "python",
   "name": "python3"
  },
  "language_info": {
   "codemirror_mode": {
    "name": "ipython",
    "version": 3
   },
   "file_extension": ".py",
   "mimetype": "text/x-python",
   "name": "python",
   "nbconvert_exporter": "python",
   "pygments_lexer": "ipython3",
   "version": "3.11.4"
  }
 },
 "nbformat": 4,
 "nbformat_minor": 2
}
